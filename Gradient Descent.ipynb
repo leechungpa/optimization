{
 "cells": [
  {
   "cell_type": "code",
   "execution_count": 13,
   "metadata": {},
   "outputs": [],
   "source": [
    "import numpy as np\n",
    "import pandas as pd\n",
    "import seaborn as sns\n",
    "import matplotlib.pyplot as plt\n",
    "import sklearn\n",
    "from sklearn import datasets\n",
    "from sklearn.datasets import make_regression"
   ]
  },
  {
   "cell_type": "markdown",
   "metadata": {},
   "source": [
    "## 1.Gradient Descent\n",
    "\n",
    "For unconstrained optimization problem whose objective function $f(x)$ is smooth convex function, sequence ${x_{k}}$ that has following iteration form converges to problem's solution $x*$ such that $x^ = \\underset{x}{argmin} f(x)$ under appropriate step size $t_k$ $$ x^{(k+1)} = x^{(k)} - t_k \\nabla f(x^{(k)})$$"
   ]
  },
  {
   "cell_type": "markdown",
   "metadata": {},
   "source": [
    "## (1) Linear Regression(no intercept)\n",
    "\n",
    "단순 선형 회귀모델 $y_i =\\beta_1 x_{i1} + \\beta_2 x_{i2} + \\epsilon_i$ or $y= X\\beta+\\epsilon$의 SSE는 다음과 같다.\n",
    "$f(\\beta) = \\sum_i^n \\epsilon_i^2 = \\epsilon^t\\epsilon \\ \\quad= (y-X\\beta)^t(y-X\\beta) \\ \\quad = y^ty-2\\beta^tX^ty + \\beta^tX^tX\\beta$\n",
    "\n",
    "이때 목적함수 $f(\\beta)$는 L2-Norm의 Affine Transformation 꼴이므로 Convex Function이다.\n",
    "따라서 이에 대한 Convex Optimization Problem을 다음과 같이 설계 할 수 있다.\n",
    "$$\\underset{\\beta}{min} {y^ty-2\\beta^tX^ty+\\beta^tX^tX\\beta}$$\n",
    "\n",
    "이에 대한 Gradient를 구하면 다음과 같다.\n",
    "$\\frac{\\delta}{\\delta \\beta}{y^ty-2\\beta^tX^ty+\\beta^tX^tX\\beta} \\ \\quad = {-2y^tX+2X^tX\\beta}$\n",
    "\n",
    "따라서 이터레이션 폼은 다음과 같은 형태를 띈다.\n",
    "$x^+ = x - t \\nabla f(x) \\ \\quad = x - 2t(X^tX\\beta-y^tX)$"
   ]
  },
  {
   "cell_type": "markdown",
   "metadata": {},
   "source": [
    "* 우선 위에서 구한 공식을 이용해 현재의 $\\beta$값을 넣으면 현재의 Gradient를 계산해주는 함수를 짜자."
   ]
  },
  {
   "cell_type": "code",
   "execution_count": 14,
   "metadata": {},
   "outputs": [],
   "source": [
    "def lin_gradient(beta) : \n",
    "    return((x_mat.transpose()@x_mat@beta-x_mat.transpose()@y_mat))"
   ]
  },
  {
   "cell_type": "markdown",
   "metadata": {},
   "source": [
    "- ### sklearn에 내장되어 있는 함수를 이용해 Y,X를 generate 시킨다(Var(e)=1)"
   ]
  },
  {
   "cell_type": "code",
   "execution_count": 107,
   "metadata": {},
   "outputs": [],
   "source": [
    "x_mat, y_mat, beta = sklearn.datasets.make_regression(n_samples=1000, n_features=2, n_informative=2, n_targets=1, bias=0.0, effective_rank=None, noise=1, shuffle=True, coef=True, random_state=None)"
   ]
  },
  {
   "cell_type": "code",
   "execution_count": 108,
   "metadata": {},
   "outputs": [
    {
     "data": {
      "text/plain": [
       "array([35.03671634, 90.2456229 ])"
      ]
     },
     "execution_count": 108,
     "metadata": {},
     "output_type": "execute_result"
    }
   ],
   "source": [
    "beta"
   ]
  },
  {
   "cell_type": "markdown",
   "metadata": {},
   "source": [
    "- 처음으로 Initial Point 및 Place Holder 만들어주자"
   ]
  },
  {
   "cell_type": "code",
   "execution_count": 109,
   "metadata": {},
   "outputs": [],
   "source": [
    "## 기본값 설정 (beta-temporary value)\n",
    "beta_init = [30,80]\n",
    "\n",
    "## 현재값 설정 (beta-temporary value)\n",
    "beta_temp = beta_init\n",
    "\n",
    "## 결과물 공간 (Gradient Descent Result A)\n",
    "GD_result_A = pd.DataFrame([beta_init],columns=[\"beta0\",\"beta1\"])\n",
    "\n",
    "## step size 지정\n",
    "t_fixed= 0.00001"
   ]
  },
  {
   "cell_type": "code",
   "execution_count": 110,
   "metadata": {},
   "outputs": [],
   "source": [
    "for i in range(1000) : \n",
    "    beta_temp = beta_temp - 2*t_fixed*(lin_gradient(beta_temp))\n",
    "    GD_result_A = GD_result_A.append(pd.DataFrame(np.array([beta_temp]),columns=[\"beta0\",\"beta1\"]),ignore_index=True)\n",
    "    if sum(lin_gradient(beta_temp)**2)**(1/2) < 0.0001 : break"
   ]
  },
  {
   "cell_type": "code",
   "execution_count": 111,
   "metadata": {
    "scrolled": true
   },
   "outputs": [
    {
     "data": {
      "text/html": [
       "<div>\n",
       "<style scoped>\n",
       "    .dataframe tbody tr th:only-of-type {\n",
       "        vertical-align: middle;\n",
       "    }\n",
       "\n",
       "    .dataframe tbody tr th {\n",
       "        vertical-align: top;\n",
       "    }\n",
       "\n",
       "    .dataframe thead th {\n",
       "        text-align: right;\n",
       "    }\n",
       "</style>\n",
       "<table border=\"1\" class=\"dataframe\">\n",
       "  <thead>\n",
       "    <tr style=\"text-align: right;\">\n",
       "      <th></th>\n",
       "      <th>beta0</th>\n",
       "      <th>beta1</th>\n",
       "    </tr>\n",
       "  </thead>\n",
       "  <tbody>\n",
       "    <tr>\n",
       "      <th>0</th>\n",
       "      <td>30.000000</td>\n",
       "      <td>80.000000</td>\n",
       "    </tr>\n",
       "    <tr>\n",
       "      <th>1</th>\n",
       "      <td>30.100324</td>\n",
       "      <td>80.207800</td>\n",
       "    </tr>\n",
       "    <tr>\n",
       "      <th>2</th>\n",
       "      <td>30.198656</td>\n",
       "      <td>80.411380</td>\n",
       "    </tr>\n",
       "    <tr>\n",
       "      <th>3</th>\n",
       "      <td>30.295036</td>\n",
       "      <td>80.610827</td>\n",
       "    </tr>\n",
       "    <tr>\n",
       "      <th>4</th>\n",
       "      <td>30.389503</td>\n",
       "      <td>80.806223</td>\n",
       "    </tr>\n",
       "    <tr>\n",
       "      <th>...</th>\n",
       "      <td>...</td>\n",
       "      <td>...</td>\n",
       "    </tr>\n",
       "    <tr>\n",
       "      <th>908</th>\n",
       "      <td>35.055911</td>\n",
       "      <td>90.232488</td>\n",
       "    </tr>\n",
       "    <tr>\n",
       "      <th>909</th>\n",
       "      <td>35.055911</td>\n",
       "      <td>90.232488</td>\n",
       "    </tr>\n",
       "    <tr>\n",
       "      <th>910</th>\n",
       "      <td>35.055911</td>\n",
       "      <td>90.232488</td>\n",
       "    </tr>\n",
       "    <tr>\n",
       "      <th>911</th>\n",
       "      <td>35.055911</td>\n",
       "      <td>90.232488</td>\n",
       "    </tr>\n",
       "    <tr>\n",
       "      <th>912</th>\n",
       "      <td>35.055911</td>\n",
       "      <td>90.232488</td>\n",
       "    </tr>\n",
       "  </tbody>\n",
       "</table>\n",
       "<p>913 rows × 2 columns</p>\n",
       "</div>"
      ],
      "text/plain": [
       "         beta0      beta1\n",
       "0    30.000000  80.000000\n",
       "1    30.100324  80.207800\n",
       "2    30.198656  80.411380\n",
       "3    30.295036  80.610827\n",
       "4    30.389503  80.806223\n",
       "..         ...        ...\n",
       "908  35.055911  90.232488\n",
       "909  35.055911  90.232488\n",
       "910  35.055911  90.232488\n",
       "911  35.055911  90.232488\n",
       "912  35.055911  90.232488\n",
       "\n",
       "[913 rows x 2 columns]"
      ]
     },
     "execution_count": 111,
     "metadata": {},
     "output_type": "execute_result"
    }
   ],
   "source": [
    "GD_result_A"
   ]
  },
  {
   "cell_type": "markdown",
   "metadata": {},
   "source": [
    "- 위에 나온 회귀계수값과 값이 상당히 유사하다"
   ]
  },
  {
   "cell_type": "code",
   "execution_count": 112,
   "metadata": {
    "scrolled": true
   },
   "outputs": [
    {
     "data": {
      "image/png": "[encoded data removed]",
      "text/plain": [
       "<Figure size 720x720 with 1 Axes>"
      ]
     },
     "metadata": {
      "needs_background": "light"
     },
     "output_type": "display_data"
    }
   ],
   "source": [
    "plt.figure(figsize=(10,10))\n",
    "sns.lineplot(x=\"beta0\", y=\"beta1\",\n",
    "                  sort=False, data=GD_result_A)\n",
    "sns.scatterplot(x=\"beta0\", y=\"beta1\",data=GD_result_A,s=200,marker=\"o\")\n",
    "plt.show()"
   ]
  },
  {
   "cell_type": "markdown",
   "metadata": {},
   "source": [
    "### Backtracking Line Search를 통해 step size를 조정한다"
   ]
  },
  {
   "cell_type": "markdown",
   "metadata": {},
   "source": [
    "Backtracking Line Search는 다음과 같은 알고리즘이다.\n",
    "\n",
    "우선 initial step size $t_0$를 임의로 정해준다.\n",
    "알고리즘의 하이퍼 파라미터인 $\\alpha \\in (0,0.5] , \\beta \\in (0,1)$를 임의로 정해주자.\n",
    "다음의 조건을 체크하고 조건이 성립하지 않을 때 까지 $t = \\beta t$를 넣어주며 t를 축소해주자.\n",
    "$ f(x^+) > f(x) - \\alpha t \\parallel \\nabla f(x) \\parallel_2^2$\n",
    "조건이 성립하지 않는다면 구해진 t값을 이용해서 Gradient Descent Step을 1회 진행하자."
   ]
  },
  {
   "cell_type": "code",
   "execution_count": 113,
   "metadata": {},
   "outputs": [],
   "source": [
    "def backtracking(alpha,t) : \n",
    "    beta_plus = beta_temp - 2*t_temp*(x_mat.transpose()@x_mat@beta_temp-x_mat.transpose()@y_mat)\n",
    "    res_plus = sum((y_mat-x_mat@beta_plus)**2)\n",
    "    res = x_mat.transpose()@x_mat@beta_temp-x_mat.transpose()@y_mat\n",
    "    res_temp = sum((y_mat-x_mat@beta_temp)**2)-alpha*t_temp*sum(res**2)\n",
    "    return(res_plus>res_temp)"
   ]
  },
  {
   "cell_type": "code",
   "execution_count": 356,
   "metadata": {},
   "outputs": [],
   "source": [
    "## 모수 초기값\n",
    "beta_init = np.array([30,80])\n",
    "\n",
    "## 모수 현재값\n",
    "beta_temp = beta_init\n",
    "\n",
    "## 스텝 초기값\n",
    "t_init = np.array([0.5])\n",
    "\n",
    "## 스텝 현재값\n",
    "t_temp = t_init\n",
    "\n",
    "## 전체 결과물 저장소\n",
    "GD_result_B = pd.DataFrame([[*t_init,*beta_init]],columns=[\"Step\",\"beta0\",\"beta1\"])\n",
    "\n",
    "## 하이퍼 파라미터\n",
    "alpha = 0.5\n",
    "beta = 0.7"
   ]
  },
  {
   "cell_type": "code",
   "execution_count": 357,
   "metadata": {},
   "outputs": [],
   "source": [
    "for i in range(1000) : \n",
    "    while (backtracking(alpha,t_temp)):\n",
    "        t_temp = t_temp * beta\n",
    "        beta_temp = beta_temp - 2*t_temp*lin_gradient(beta_temp)\n",
    "        GD_result_B = GD_result_B.append(pd.DataFrame([[*t_temp,*beta_temp]],columns=[\"Step\",\"beta0\",\"beta1\"]),ignore_index=True)\n",
    "    if sum(lin_gradient(beta_temp)**2)**(1/2) < 0.01 : break"
   ]
  },
  {
   "cell_type": "code",
   "execution_count": 358,
   "metadata": {},
   "outputs": [
    {
     "data": {
      "text/html": [
       "<div>\n",
       "<style scoped>\n",
       "    .dataframe tbody tr th:only-of-type {\n",
       "        vertical-align: middle;\n",
       "    }\n",
       "\n",
       "    .dataframe tbody tr th {\n",
       "        vertical-align: top;\n",
       "    }\n",
       "\n",
       "    .dataframe thead th {\n",
       "        text-align: right;\n",
       "    }\n",
       "</style>\n",
       "<table border=\"1\" class=\"dataframe\">\n",
       "  <thead>\n",
       "    <tr style=\"text-align: right;\">\n",
       "      <th></th>\n",
       "      <th>Step</th>\n",
       "      <th>beta0</th>\n",
       "      <th>beta1</th>\n",
       "    </tr>\n",
       "  </thead>\n",
       "  <tbody>\n",
       "    <tr>\n",
       "      <th>0</th>\n",
       "      <td>0.500000</td>\n",
       "      <td>3.000000e+01</td>\n",
       "      <td>8.000000e+01</td>\n",
       "    </tr>\n",
       "    <tr>\n",
       "      <th>1</th>\n",
       "      <td>0.350000</td>\n",
       "      <td>-1.967708e+04</td>\n",
       "      <td>-6.131124e+04</td>\n",
       "    </tr>\n",
       "    <tr>\n",
       "      <th>2</th>\n",
       "      <td>0.245000</td>\n",
       "      <td>8.973816e+06</td>\n",
       "      <td>3.308102e+07</td>\n",
       "    </tr>\n",
       "    <tr>\n",
       "      <th>3</th>\n",
       "      <td>0.171500</td>\n",
       "      <td>-2.839960e+09</td>\n",
       "      <td>-1.249150e+10</td>\n",
       "    </tr>\n",
       "    <tr>\n",
       "      <th>4</th>\n",
       "      <td>0.120050</td>\n",
       "      <td>6.221659e+11</td>\n",
       "      <td>3.299692e+12</td>\n",
       "    </tr>\n",
       "    <tr>\n",
       "      <th>5</th>\n",
       "      <td>0.084035</td>\n",
       "      <td>-9.403161e+13</td>\n",
       "      <td>-6.094225e+14</td>\n",
       "    </tr>\n",
       "    <tr>\n",
       "      <th>6</th>\n",
       "      <td>0.058824</td>\n",
       "      <td>9.755718e+15</td>\n",
       "      <td>7.863641e+16</td>\n",
       "    </tr>\n",
       "    <tr>\n",
       "      <th>7</th>\n",
       "      <td>0.041177</td>\n",
       "      <td>-6.895853e+17</td>\n",
       "      <td>-7.081632e+18</td>\n",
       "    </tr>\n",
       "    <tr>\n",
       "      <th>8</th>\n",
       "      <td>0.028824</td>\n",
       "      <td>3.280697e+19</td>\n",
       "      <td>4.444302e+20</td>\n",
       "    </tr>\n",
       "    <tr>\n",
       "      <th>9</th>\n",
       "      <td>0.020177</td>\n",
       "      <td>-1.028030e+21</td>\n",
       "      <td>-1.939613e+22</td>\n",
       "    </tr>\n",
       "    <tr>\n",
       "      <th>10</th>\n",
       "      <td>0.014124</td>\n",
       "      <td>2.029436e+22</td>\n",
       "      <td>5.868744e+23</td>\n",
       "    </tr>\n",
       "    <tr>\n",
       "      <th>11</th>\n",
       "      <td>0.009887</td>\n",
       "      <td>-2.235253e+23</td>\n",
       "      <td>-1.225669e+25</td>\n",
       "    </tr>\n",
       "    <tr>\n",
       "      <th>12</th>\n",
       "      <td>0.006921</td>\n",
       "      <td>6.458566e+23</td>\n",
       "      <td>1.755421e+26</td>\n",
       "    </tr>\n",
       "    <tr>\n",
       "      <th>13</th>\n",
       "      <td>0.004844</td>\n",
       "      <td>1.599738e+25</td>\n",
       "      <td>-1.707546e+27</td>\n",
       "    </tr>\n",
       "    <tr>\n",
       "      <th>14</th>\n",
       "      <td>0.003391</td>\n",
       "      <td>-2.354129e+26</td>\n",
       "      <td>1.111648e+28</td>\n",
       "    </tr>\n",
       "    <tr>\n",
       "      <th>15</th>\n",
       "      <td>0.002374</td>\n",
       "      <td>1.516067e+27</td>\n",
       "      <td>-4.733231e+28</td>\n",
       "    </tr>\n",
       "    <tr>\n",
       "      <th>16</th>\n",
       "      <td>0.001662</td>\n",
       "      <td>-5.363682e+27</td>\n",
       "      <td>1.268956e+29</td>\n",
       "    </tr>\n",
       "    <tr>\n",
       "      <th>17</th>\n",
       "      <td>0.001163</td>\n",
       "      <td>1.048507e+28</td>\n",
       "      <td>-2.001100e+29</td>\n",
       "    </tr>\n",
       "    <tr>\n",
       "      <th>18</th>\n",
       "      <td>0.000814</td>\n",
       "      <td>-1.021803e+28</td>\n",
       "      <td>1.609052e+29</td>\n",
       "    </tr>\n",
       "    <tr>\n",
       "      <th>19</th>\n",
       "      <td>0.000570</td>\n",
       "      <td>3.415068e+27</td>\n",
       "      <td>-4.232099e+28</td>\n",
       "    </tr>\n",
       "  </tbody>\n",
       "</table>\n",
       "</div>"
      ],
      "text/plain": [
       "        Step         beta0         beta1\n",
       "0   0.500000  3.000000e+01  8.000000e+01\n",
       "1   0.350000 -1.967708e+04 -6.131124e+04\n",
       "2   0.245000  8.973816e+06  3.308102e+07\n",
       "3   0.171500 -2.839960e+09 -1.249150e+10\n",
       "4   0.120050  6.221659e+11  3.299692e+12\n",
       "5   0.084035 -9.403161e+13 -6.094225e+14\n",
       "6   0.058824  9.755718e+15  7.863641e+16\n",
       "7   0.041177 -6.895853e+17 -7.081632e+18\n",
       "8   0.028824  3.280697e+19  4.444302e+20\n",
       "9   0.020177 -1.028030e+21 -1.939613e+22\n",
       "10  0.014124  2.029436e+22  5.868744e+23\n",
       "11  0.009887 -2.235253e+23 -1.225669e+25\n",
       "12  0.006921  6.458566e+23  1.755421e+26\n",
       "13  0.004844  1.599738e+25 -1.707546e+27\n",
       "14  0.003391 -2.354129e+26  1.111648e+28\n",
       "15  0.002374  1.516067e+27 -4.733231e+28\n",
       "16  0.001662 -5.363682e+27  1.268956e+29\n",
       "17  0.001163  1.048507e+28 -2.001100e+29\n",
       "18  0.000814 -1.021803e+28  1.609052e+29\n",
       "19  0.000570  3.415068e+27 -4.232099e+28"
      ]
     },
     "execution_count": 358,
     "metadata": {},
     "output_type": "execute_result"
    }
   ],
   "source": [
    "GD_result_B"
   ]
  },
  {
   "cell_type": "code",
   "execution_count": 359,
   "metadata": {},
   "outputs": [
    {
     "data": {
      "image/png": "[encoded data removed]",
      "text/plain": [
       "<Figure size 720x720 with 1 Axes>"
      ]
     },
     "metadata": {
      "needs_background": "light"
     },
     "output_type": "display_data"
    }
   ],
   "source": [
    "plt.figure(figsize=(10,10))\n",
    "sns.lineplot(x=\"beta0\", y=\"beta1\",\n",
    "                  sort=False, data=GD_result_B)\n",
    "sns.scatterplot(x=\"beta0\", y=\"beta1\",data=GD_result_B,s=200,marker=\"o\")\n",
    "plt.show()"
   ]
  },
  {
   "cell_type": "markdown",
   "metadata": {},
   "source": [
    "- gradient descent와 다르게 step size를 다르게 줌으로 인해서 움직이는 보폭이 다름을 확인할 수 있다."
   ]
  },
  {
   "cell_type": "markdown",
   "metadata": {},
   "source": [
    " ### Exact Line Search 를 적용해본다."
   ]
  },
  {
   "cell_type": "markdown",
   "metadata": {},
   "source": [
    "Gradient Descent에서 Convergence Analysis를 해보면 Strong Convexity Constant $\\mu$와 Lipschitz Constant L을 찾아서 평균의 역수를 사용함으로써 최적의 Exact Step Size를 찾을 수 있다. 많은 방식이 있지만 이 문제에 대해서는 아래를 만족하는 Constant를 찾아서 구해줄 수 있다.\n",
    "$ LI \\prec \\nabla^2 f(x) \\prec mI$\n",
    "\n",
    "$\\nabla^2 f(x) = \\nabla { \\nabla f(x)} \\\\ \\qquad \\quad = \\nabla {-2y^tX+2X^tX\\beta } \\\\ \\qquad \\quad = 2X^tX$\n",
    "\n",
    "Quadratic Form Theorem을 쓰면 아래와 같은 관계식을 얻을 수 있다.\n",
    "$\\lambda_p \\leq \\frac{x^t A x}{x^t x} \\leq \\lambda_1$\n",
    "$\\lambda_p x^t x \\leq x^t A x \\leq \\lambda_1 x^t x$\n",
    "$ \\lambda_p I \\leq A \\leq \\lambda_1 I$\n",
    "따라서 Hessian Matrix의 아이젠 밸류의 최대값과 최소값이 Lipschit Constant L과 Strong Convexity Constant $\\mu$가 된다.\n",
    "따라서 아래와 같이 분해를 해준 뒤 이론상의 정확한 step size를 찾아주자"
   ]
  },
  {
   "cell_type": "code",
   "execution_count": 118,
   "metadata": {},
   "outputs": [
    {
     "data": {
      "text/plain": [
       "0.0005055396216550964"
      ]
     },
     "execution_count": 118,
     "metadata": {},
     "output_type": "execute_result"
    }
   ],
   "source": [
    "eigen = np.linalg.svd(2*x_mat.transpose()@x_mat)[1]\n",
    "t_fixed = 2/(np.min(eigen)+np.max(eigen))\n",
    "t_fixed"
   ]
  },
  {
   "cell_type": "code",
   "execution_count": 119,
   "metadata": {},
   "outputs": [],
   "source": [
    "## 초기값\n",
    "beta_init = [30,80]\n",
    "\n",
    "## 현재값\n",
    "beta_temp = beta_init\n",
    "\n",
    "## 전체 결과물 저장소\n",
    "GD_result_C = pd.DataFrame([beta_init],columns=[\"beta0\",\"beta1\"])"
   ]
  },
  {
   "cell_type": "code",
   "execution_count": 120,
   "metadata": {},
   "outputs": [],
   "source": [
    "for i in range(1000) : \n",
    "    beta_temp = beta_temp - 2*t_fixed*((x_mat.transpose()@x_mat@beta_temp-x_mat.transpose()@y_mat))\n",
    "    GD_result_C = GD_result_C.append(pd.DataFrame(np.array([beta_temp]),columns=[\"beta0\",\"beta1\"]),ignore_index=True)\n",
    "    if sum(lin_gradient(beta_temp)**2)**(1/2) < 0.01 : break"
   ]
  },
  {
   "cell_type": "code",
   "execution_count": 121,
   "metadata": {},
   "outputs": [
    {
     "data": {
      "text/html": [
       "<div>\n",
       "<style scoped>\n",
       "    .dataframe tbody tr th:only-of-type {\n",
       "        vertical-align: middle;\n",
       "    }\n",
       "\n",
       "    .dataframe tbody tr th {\n",
       "        vertical-align: top;\n",
       "    }\n",
       "\n",
       "    .dataframe thead th {\n",
       "        text-align: right;\n",
       "    }\n",
       "</style>\n",
       "<table border=\"1\" class=\"dataframe\">\n",
       "  <thead>\n",
       "    <tr style=\"text-align: right;\">\n",
       "      <th></th>\n",
       "      <th>beta0</th>\n",
       "      <th>beta1</th>\n",
       "    </tr>\n",
       "  </thead>\n",
       "  <tbody>\n",
       "    <tr>\n",
       "      <th>0</th>\n",
       "      <td>30.000000</td>\n",
       "      <td>80.000000</td>\n",
       "    </tr>\n",
       "    <tr>\n",
       "      <th>1</th>\n",
       "      <td>35.071780</td>\n",
       "      <td>90.505099</td>\n",
       "    </tr>\n",
       "    <tr>\n",
       "      <th>2</th>\n",
       "      <td>35.053017</td>\n",
       "      <td>90.226631</td>\n",
       "    </tr>\n",
       "    <tr>\n",
       "      <th>3</th>\n",
       "      <td>35.055920</td>\n",
       "      <td>90.232644</td>\n",
       "    </tr>\n",
       "    <tr>\n",
       "      <th>4</th>\n",
       "      <td>35.055909</td>\n",
       "      <td>90.232485</td>\n",
       "    </tr>\n",
       "  </tbody>\n",
       "</table>\n",
       "</div>"
      ],
      "text/plain": [
       "       beta0      beta1\n",
       "0  30.000000  80.000000\n",
       "1  35.071780  90.505099\n",
       "2  35.053017  90.226631\n",
       "3  35.055920  90.232644\n",
       "4  35.055909  90.232485"
      ]
     },
     "execution_count": 121,
     "metadata": {},
     "output_type": "execute_result"
    }
   ],
   "source": [
    "GD_result_C"
   ]
  },
  {
   "cell_type": "code",
   "execution_count": 122,
   "metadata": {},
   "outputs": [
    {
     "data": {
      "image/png": "[encoded data removed]",
      "text/plain": [
       "<Figure size 720x720 with 1 Axes>"
      ]
     },
     "metadata": {
      "needs_background": "light"
     },
     "output_type": "display_data"
    }
   ],
   "source": [
    "plt.figure(figsize=(10,10))\n",
    "sns.lineplot(x=\"beta0\", y=\"beta1\",\n",
    "                  sort=False, data=GD_result_C)\n",
    "sns.scatterplot(x=\"beta0\", y=\"beta1\",data=GD_result_C,s=200,marker=\"o\")\n",
    "plt.show()"
   ]
  },
  {
   "cell_type": "markdown",
   "metadata": {},
   "source": [
    "### target value와 세가지 방법을 plotting 시킨다."
   ]
  },
  {
   "cell_type": "code",
   "execution_count": 123,
   "metadata": {},
   "outputs": [],
   "source": [
    "target_beta = [35.03671634, 90.2456229]\n",
    "GD_Total_Score = pd.concat([GD_result_A.apply(lambda x : sum((target_beta-x)**2)/2 ,axis=1),GD_result_B.apply(lambda x : sum((target_beta-x[1:4])**2)/2 ,axis=1),GD_result_C.apply(lambda x : sum((target_beta-x)**2)/2 ,axis=1)],axis=1)\n",
    "GD_Total_Score.columns = [\"Fixed Step\",\"BackTracking\",\"Exact\"]"
   ]
  },
  {
   "cell_type": "code",
   "execution_count": 124,
   "metadata": {},
   "outputs": [
    {
     "data": {
      "image/png": "[encoded data removed]",
      "text/plain": [
       "<Figure size 1440x720 with 1 Axes>"
      ]
     },
     "metadata": {
      "needs_background": "light"
     },
     "output_type": "display_data"
    }
   ],
   "source": [
    "plt.figure(figsize=(20,10))\n",
    "sns.lineplot(data=GD_Total_Score.iloc[:20], palette=\"tab10\", linewidth=2.5)\n",
    "plt.show()"
   ]
  },
  {
   "cell_type": "markdown",
   "metadata": {},
   "source": [
    "### Comment: \n",
    "- Gradient Descent보다 Backtracking, Exact line Search를 했을 때 처음에는 차이가 크나 나중에 갈수록 오차가 줄어드는 것을 확인할 수 있다.\n",
    "- 잘 수렴하지 못하는 Gradient Descent와 다르게 Backtracking, Exact line search를 사용하면 수렴이 잘 됨을 확인할 수 있다.\n",
    "- Exact Line Search를 위해서 Hessian Matrix를 감싸는 적절한 범위를 찾아야 하는데 이를 위해서는 Spectral Decomposition을 해줌으로써 구할 수 있다.\n",
    "- Exact Line Search를 통해서 구한 Step Size는 Gradient Descent 수렴의 분기가 된다."
   ]
  },
  {
   "cell_type": "markdown",
   "metadata": {},
   "source": [
    "## (2) Logistic Regression (no intercept model)"
   ]
  },
  {
   "cell_type": "markdown",
   "metadata": {},
   "source": [
    "Logistic Regression의 cost function은 Maximum likelihood estimation을 기반으로 한 cost function으로 정의한다.\n",
    "\n",
    "$cost(f(x),y)$ = \n",
    "$-log(f(x))$ if y = 1 or\n",
    "$-log(1-f(x))$ if y = 0"
   ]
  },
  {
   "attachments": {
    "logistic%20cost%20function.png": {
     "image/png": "[encoded data removed]"
    }
   },
   "cell_type": "markdown",
   "metadata": {},
   "source": [
    "![logistic%20cost%20function.png](attachment:logistic%20cost%20function.png)"
   ]
  },
  {
   "cell_type": "markdown",
   "metadata": {},
   "source": [
    "즉, $y=1$ 일 때, $f(x)=1$ 이면 cost=0 이고, $y=0$ 일 때, $f(x)=0$ 이면 cost는 무한대로 발산한다. (여기서 $y$는 1 혹은 0만 가지는 binary output만 가진다. 참값이 predicted와 다를 경우에 penalty를 부여한다고 볼 수 있다.)\n",
    "\n",
    "위의 그림에서도 볼 수 있듯이 convex 형태를 가진다."
   ]
  },
  {
   "cell_type": "markdown",
   "metadata": {},
   "source": [
    "최종적으로 logistic regression의 cost function은 다음과 같이 표기할 수 있다.\n",
    "\n",
    "$J(\\beta) = - \\frac{1}{m} \n",
    "\\sum_{i=1}^{m} \\left[ \n",
    "y^{(i)} \\log f_\\beta (x) +\n",
    "(1-y^{(i)}) \\log \\left( 1-f_\\beta (x) \\right)\n",
    "\\right]$\n",
    "\n",
    "이 함수는 convex이고, 따라서 gradient descent 알고리즘을 적용시킬 수 있게 된다. 여기서 위의 cost function의 도함수는 \n",
    "\n",
    "$\\frac{\\partial}{\\partial \\beta_j} J(\\beta)\n",
    "= \\frac{1}{m} \\sum_{i=1}^{m} \\left( f_\\beta(x^{(i)}) - y^{(i)} \\right) x_j^{(i)}$ 이고,\n",
    "\n",
    "따라서 \n",
    "\n",
    "$\\beta_j := \\beta_j - \\gamma \\frac{\\partial}{\\partial \\beta_j} J(\\beta)$ 를 진행하여 gradient descent를 한다."
   ]
  },
  {
   "cell_type": "markdown",
   "metadata": {},
   "source": [
    "### 이번에도 sklearn에 내장되어 있는 함수를 통해 random number를 generate시킨다."
   ]
  },
  {
   "cell_type": "code",
   "execution_count": 224,
   "metadata": {},
   "outputs": [],
   "source": [
    "from sklearn.datasets import make_classification"
   ]
  },
  {
   "cell_type": "code",
   "execution_count": 328,
   "metadata": {},
   "outputs": [],
   "source": [
    "x_mat, y_mat = make_classification(n_samples=1000, n_features=2, n_informative=1, n_redundant=0,\n",
    "                           n_clusters_per_class=1, random_state=4)"
   ]
  },
  {
   "cell_type": "code",
   "execution_count": 329,
   "metadata": {},
   "outputs": [
    {
     "name": "stdout",
     "output_type": "stream",
     "text": [
      "Optimization terminated successfully.\n",
      "         Current function value: 0.021809\n",
      "         Iterations 11\n",
      "                           Logit Regression Results                           \n",
      "==============================================================================\n",
      "Dep. Variable:                      y   No. Observations:                 1000\n",
      "Model:                          Logit   Df Residuals:                      998\n",
      "Method:                           MLE   Df Model:                            1\n",
      "Date:                Fri, 13 Nov 2020   Pseudo R-squ.:                  0.9685\n",
      "Time:                        22:22:03   Log-Likelihood:                -21.809\n",
      "converged:                       True   LL-Null:                       -693.15\n",
      "Covariance Type:            nonrobust   LLR p-value:                6.015e-294\n",
      "==============================================================================\n",
      "                 coef    std err          z      P>|z|      [0.025      0.975]\n",
      "------------------------------------------------------------------------------\n",
      "x1             0.1954      0.464      0.421      0.674      -0.715       1.106\n",
      "x2             7.4000      0.975      7.591      0.000       5.489       9.311\n",
      "==============================================================================\n",
      "\n",
      "Possibly complete quasi-separation: A fraction 0.15 of observations can be\n",
      "perfectly predicted. This might indicate that there is complete\n",
      "quasi-separation. In this case some parameters will not be identified.\n"
     ]
    }
   ],
   "source": [
    "import statsmodels.api as sm\n",
    "logit_model=sm.Logit(y_mat,x_mat)\n",
    "result=logit_model.fit()\n",
    "print(result.summary())"
   ]
  },
  {
   "cell_type": "markdown",
   "metadata": {},
   "source": [
    "fitting을 시킨 결과 $\\beta_1 = 0.1954, \\beta_2 = 7.4$ 가 나왔다"
   ]
  },
  {
   "cell_type": "markdown",
   "metadata": {},
   "source": [
    "####  logistic(sigmoid) 함수와 cost function을 정의한다"
   ]
  },
  {
   "cell_type": "code",
   "execution_count": 283,
   "metadata": {},
   "outputs": [],
   "source": [
    "def sigmoid(X, beta):\n",
    "    \n",
    "    z = np.dot(X, beta)\n",
    "    \n",
    "    return 1.0 / ( 1.0 + np.exp(-z))"
   ]
  },
  {
   "cell_type": "code",
   "execution_count": 284,
   "metadata": {},
   "outputs": [],
   "source": [
    "def loss(fx, y):\n",
    "    return (-y.dot(np.log(fx)) - (1 - y).dot(np.log(1 - fx)))"
   ]
  },
  {
   "cell_type": "markdown",
   "metadata": {},
   "source": [
    "#### gradient를 정의한다"
   ]
  },
  {
   "cell_type": "code",
   "execution_count": 318,
   "metadata": {},
   "outputs": [],
   "source": [
    "# Gradient Descent function to minimize the Logistic Regression Cost Function.\n",
    "def logiGradient(X, y,beta):\n",
    "        fx = sigmoid(X, beta)\n",
    "        error = fx - y\n",
    "        grad = X.T.dot(error)\n",
    "        return grad"
   ]
  },
  {
   "cell_type": "code",
   "execution_count": 343,
   "metadata": {},
   "outputs": [],
   "source": [
    "## 모수 초기값\n",
    "beta_init = np.array([0,10])\n",
    "\n",
    "## 모수 현재값\n",
    "beta_temp = beta_init\n",
    "\n",
    "## 전체 결과물 저장소\n",
    "GDlogi_result_A = pd.DataFrame([beta_init],columns=[\"beta0\",\"beta1\"])\n",
    "\n",
    "## 하이퍼 파라미터 \n",
    "t_fixed= 0.01 #learning rate\n",
    "num_iter = 1000"
   ]
  },
  {
   "cell_type": "code",
   "execution_count": 320,
   "metadata": {},
   "outputs": [],
   "source": [
    "for i in range(num_iter) : \n",
    "    beta_temp = beta_temp - t_fixed*(logiGradient(x_mat,y_mat,beta_temp))\n",
    "    GDlogi_result_A = GDlogi_result_A.append(pd.DataFrame(np.array([beta_temp]),columns=[\"beta0\",\"beta1\"]),ignore_index=True)\n",
    "    if sum(logiGradient(x_mat,y_mat,beta_temp)**2)**(1/2) < 0.0001 : break"
   ]
  },
  {
   "cell_type": "code",
   "execution_count": 321,
   "metadata": {},
   "outputs": [
    {
     "data": {
      "text/html": [
       "<div>\n",
       "<style scoped>\n",
       "    .dataframe tbody tr th:only-of-type {\n",
       "        vertical-align: middle;\n",
       "    }\n",
       "\n",
       "    .dataframe tbody tr th {\n",
       "        vertical-align: top;\n",
       "    }\n",
       "\n",
       "    .dataframe thead th {\n",
       "        text-align: right;\n",
       "    }\n",
       "</style>\n",
       "<table border=\"1\" class=\"dataframe\">\n",
       "  <thead>\n",
       "    <tr style=\"text-align: right;\">\n",
       "      <th></th>\n",
       "      <th>beta0</th>\n",
       "      <th>beta1</th>\n",
       "    </tr>\n",
       "  </thead>\n",
       "  <tbody>\n",
       "    <tr>\n",
       "      <th>0</th>\n",
       "      <td>0.000000</td>\n",
       "      <td>10.000000</td>\n",
       "    </tr>\n",
       "    <tr>\n",
       "      <th>1</th>\n",
       "      <td>0.009016</td>\n",
       "      <td>9.986305</td>\n",
       "    </tr>\n",
       "    <tr>\n",
       "      <th>2</th>\n",
       "      <td>0.017846</td>\n",
       "      <td>9.972640</td>\n",
       "    </tr>\n",
       "    <tr>\n",
       "      <th>3</th>\n",
       "      <td>0.026493</td>\n",
       "      <td>9.959008</td>\n",
       "    </tr>\n",
       "    <tr>\n",
       "      <th>4</th>\n",
       "      <td>0.034959</td>\n",
       "      <td>9.945407</td>\n",
       "    </tr>\n",
       "    <tr>\n",
       "      <th>...</th>\n",
       "      <td>...</td>\n",
       "      <td>...</td>\n",
       "    </tr>\n",
       "    <tr>\n",
       "      <th>996</th>\n",
       "      <td>0.195395</td>\n",
       "      <td>7.400154</td>\n",
       "    </tr>\n",
       "    <tr>\n",
       "      <th>997</th>\n",
       "      <td>0.195395</td>\n",
       "      <td>7.400152</td>\n",
       "    </tr>\n",
       "    <tr>\n",
       "      <th>998</th>\n",
       "      <td>0.195395</td>\n",
       "      <td>7.400150</td>\n",
       "    </tr>\n",
       "    <tr>\n",
       "      <th>999</th>\n",
       "      <td>0.195394</td>\n",
       "      <td>7.400148</td>\n",
       "    </tr>\n",
       "    <tr>\n",
       "      <th>1000</th>\n",
       "      <td>0.195394</td>\n",
       "      <td>7.400146</td>\n",
       "    </tr>\n",
       "  </tbody>\n",
       "</table>\n",
       "<p>1001 rows × 2 columns</p>\n",
       "</div>"
      ],
      "text/plain": [
       "         beta0      beta1\n",
       "0     0.000000  10.000000\n",
       "1     0.009016   9.986305\n",
       "2     0.017846   9.972640\n",
       "3     0.026493   9.959008\n",
       "4     0.034959   9.945407\n",
       "...        ...        ...\n",
       "996   0.195395   7.400154\n",
       "997   0.195395   7.400152\n",
       "998   0.195395   7.400150\n",
       "999   0.195394   7.400148\n",
       "1000  0.195394   7.400146\n",
       "\n",
       "[1001 rows x 2 columns]"
      ]
     },
     "execution_count": 321,
     "metadata": {},
     "output_type": "execute_result"
    }
   ],
   "source": [
    "GDlogi_result_A"
   ]
  },
  {
   "cell_type": "markdown",
   "metadata": {},
   "source": [
    "#### 결과값을 확인해보면 mle로 구한(NR) 위의 계수들과 거의 비슷하게 수렴함을 확인할 수 있다."
   ]
  },
  {
   "cell_type": "markdown",
   "metadata": {},
   "source": [
    "#### cost가 얼마나 줄어들었는지 plot으로 확인해보자."
   ]
  },
  {
   "cell_type": "code",
   "execution_count": 344,
   "metadata": {},
   "outputs": [],
   "source": [
    "cost = []\n",
    "for i in range(num_iter):\n",
    "        fx = sigmoid(x_mat, beta_temp)\n",
    "        error = fx - y_mat\n",
    "        grad = x_mat.T.dot(error)\n",
    "        beta_temp = beta_temp - t_fixed*(logiGradient(x_mat,y_mat,beta_temp))\n",
    "        \n",
    "        cost.append(loss(fx, y_mat))"
   ]
  },
  {
   "cell_type": "code",
   "execution_count": 345,
   "metadata": {},
   "outputs": [
    {
     "data": {
      "text/plain": [
       "Text(0.5, 1.0, 'Logistic Regression')"
      ]
     },
     "execution_count": 345,
     "metadata": {},
     "output_type": "execute_result"
    },
    {
     "data": {
      "image/png": "[encoded data removed]",
      "text/plain": [
       "<Figure size 432x288 with 1 Axes>"
      ]
     },
     "metadata": {
      "needs_background": "light"
     },
     "output_type": "display_data"
    }
   ],
   "source": [
    "plt.plot(range(1, len(cost) + 1), cost)\n",
    "plt.xlabel('Iterations')\n",
    "plt.ylabel('Cost')\n",
    "plt.title('Logistic Regression')"
   ]
  },
  {
   "cell_type": "markdown",
   "metadata": {},
   "source": [
    "### Backtracking Line Search를 적용해 step size를 찾아본다."
   ]
  },
  {
   "cell_type": "markdown",
   "metadata": {},
   "source": [
    "로지스틱 regression의 목적함수가\n",
    "$J(\\beta) = - \\frac{1}{m} \n",
    "\\sum_{i=1}^{m} \\left[ \n",
    "y^{(i)} \\log f_\\beta (x) +\n",
    "(1-y^{(i)}) \\log \\left( 1-f_\\beta (x) \\right)\n",
    "\\right]$ 이므로, 각각 beta_plus 와 beta_temp 값을 넣어 비교하여 진행한다."
   ]
  },
  {
   "cell_type": "code",
   "execution_count": 346,
   "metadata": {},
   "outputs": [],
   "source": [
    "def logi_backtracking(alpha,t) : \n",
    "    beta_plus = beta_temp - t_temp*logiGradient(x_mat, y_mat, beta_temp)\n",
    "    obj_plus = loss(sigmoid(x_mat,beta_plus), y_mat)\n",
    "    obj = loss(sigmoid(x_mat,beta_temp),y_mat)\n",
    "    obj_temp = obj-alpha*t_temp*logiGradient(x_mat, y_mat, beta_temp)\n",
    "    return(obj_plus>obj_temp)"
   ]
  },
  {
   "cell_type": "code",
   "execution_count": 372,
   "metadata": {},
   "outputs": [],
   "source": [
    "## 모수 초기값\n",
    "beta_init = np.array([0,10])\n",
    "\n",
    "## 모수 현재값\n",
    "beta_temp = beta_init\n",
    "\n",
    "## 스텝 초기값\n",
    "t_init = np.array([0.5])\n",
    "\n",
    "## 스텝 현재값\n",
    "t_temp = t_init\n",
    "\n",
    "## 전체 결과물 저장소\n",
    "GDlogi_result_B = pd.DataFrame([[*t_init,*beta_init]],columns=[\"Step\",\"beta0\",\"beta1\"])\n",
    "\n",
    "## 하이퍼 파라미터\n",
    "alpha = 0.5\n",
    "beta = 0.7"
   ]
  },
  {
   "cell_type": "code",
   "execution_count": 366,
   "metadata": {},
   "outputs": [],
   "source": [
    "for i in range(num_iter) : \n",
    "    while (backtracking(alpha,t_temp)):\n",
    "        t_temp = t_temp * beta\n",
    "        beta_temp = beta_temp - t_temp*(logiGradient(x_mat,y_mat,beta_temp))\n",
    "        GDlogi_result_B = GDlogi_result_B.append(pd.DataFrame([[*t_temp,*beta_temp]],columns=[\"Step\",\"beta0\",\"beta1\"]),ignore_index=True)\n",
    "    if sum(logiGradient(x_mat,y_mat,beta_temp)**2)**(1/2) < 0.0000001 : break"
   ]
  },
  {
   "cell_type": "code",
   "execution_count": 367,
   "metadata": {
    "scrolled": true
   },
   "outputs": [
    {
     "data": {
      "text/html": [
       "<div>\n",
       "<style scoped>\n",
       "    .dataframe tbody tr th:only-of-type {\n",
       "        vertical-align: middle;\n",
       "    }\n",
       "\n",
       "    .dataframe tbody tr th {\n",
       "        vertical-align: top;\n",
       "    }\n",
       "\n",
       "    .dataframe thead th {\n",
       "        text-align: right;\n",
       "    }\n",
       "</style>\n",
       "<table border=\"1\" class=\"dataframe\">\n",
       "  <thead>\n",
       "    <tr style=\"text-align: right;\">\n",
       "      <th></th>\n",
       "      <th>Step</th>\n",
       "      <th>beta0</th>\n",
       "      <th>beta1</th>\n",
       "    </tr>\n",
       "  </thead>\n",
       "  <tbody>\n",
       "    <tr>\n",
       "      <th>0</th>\n",
       "      <td>0.500000</td>\n",
       "      <td>0.000000</td>\n",
       "      <td>10.000000</td>\n",
       "    </tr>\n",
       "    <tr>\n",
       "      <th>1</th>\n",
       "      <td>0.350000</td>\n",
       "      <td>0.315544</td>\n",
       "      <td>9.520661</td>\n",
       "    </tr>\n",
       "    <tr>\n",
       "      <th>2</th>\n",
       "      <td>0.245000</td>\n",
       "      <td>0.349671</td>\n",
       "      <td>9.222354</td>\n",
       "    </tr>\n",
       "    <tr>\n",
       "      <th>3</th>\n",
       "      <td>0.171500</td>\n",
       "      <td>0.346094</td>\n",
       "      <td>9.031507</td>\n",
       "    </tr>\n",
       "    <tr>\n",
       "      <th>4</th>\n",
       "      <td>0.120050</td>\n",
       "      <td>0.338790</td>\n",
       "      <td>8.906380</td>\n",
       "    </tr>\n",
       "    <tr>\n",
       "      <th>5</th>\n",
       "      <td>0.084035</td>\n",
       "      <td>0.332619</td>\n",
       "      <td>8.822921</td>\n",
       "    </tr>\n",
       "    <tr>\n",
       "      <th>6</th>\n",
       "      <td>0.058824</td>\n",
       "      <td>0.328034</td>\n",
       "      <td>8.766526</td>\n",
       "    </tr>\n",
       "    <tr>\n",
       "      <th>7</th>\n",
       "      <td>0.041177</td>\n",
       "      <td>0.324754</td>\n",
       "      <td>8.728043</td>\n",
       "    </tr>\n",
       "    <tr>\n",
       "      <th>8</th>\n",
       "      <td>0.028824</td>\n",
       "      <td>0.322438</td>\n",
       "      <td>8.701592</td>\n",
       "    </tr>\n",
       "    <tr>\n",
       "      <th>9</th>\n",
       "      <td>0.020177</td>\n",
       "      <td>0.320811</td>\n",
       "      <td>8.683314</td>\n",
       "    </tr>\n",
       "    <tr>\n",
       "      <th>10</th>\n",
       "      <td>0.014124</td>\n",
       "      <td>0.319672</td>\n",
       "      <td>8.670637</td>\n",
       "    </tr>\n",
       "    <tr>\n",
       "      <th>11</th>\n",
       "      <td>0.009887</td>\n",
       "      <td>0.318874</td>\n",
       "      <td>8.661820</td>\n",
       "    </tr>\n",
       "    <tr>\n",
       "      <th>12</th>\n",
       "      <td>0.006921</td>\n",
       "      <td>0.318316</td>\n",
       "      <td>8.655676</td>\n",
       "    </tr>\n",
       "    <tr>\n",
       "      <th>13</th>\n",
       "      <td>0.004844</td>\n",
       "      <td>0.317925</td>\n",
       "      <td>8.651389</td>\n",
       "    </tr>\n",
       "    <tr>\n",
       "      <th>14</th>\n",
       "      <td>0.003391</td>\n",
       "      <td>0.317652</td>\n",
       "      <td>8.648394</td>\n",
       "    </tr>\n",
       "    <tr>\n",
       "      <th>15</th>\n",
       "      <td>0.002374</td>\n",
       "      <td>0.317461</td>\n",
       "      <td>8.646302</td>\n",
       "    </tr>\n",
       "    <tr>\n",
       "      <th>16</th>\n",
       "      <td>0.001662</td>\n",
       "      <td>0.317327</td>\n",
       "      <td>8.644838</td>\n",
       "    </tr>\n",
       "    <tr>\n",
       "      <th>17</th>\n",
       "      <td>0.001163</td>\n",
       "      <td>0.317233</td>\n",
       "      <td>8.643815</td>\n",
       "    </tr>\n",
       "    <tr>\n",
       "      <th>18</th>\n",
       "      <td>0.000814</td>\n",
       "      <td>0.317167</td>\n",
       "      <td>8.643099</td>\n",
       "    </tr>\n",
       "    <tr>\n",
       "      <th>19</th>\n",
       "      <td>0.000570</td>\n",
       "      <td>0.317121</td>\n",
       "      <td>8.642598</td>\n",
       "    </tr>\n",
       "  </tbody>\n",
       "</table>\n",
       "</div>"
      ],
      "text/plain": [
       "        Step     beta0      beta1\n",
       "0   0.500000  0.000000  10.000000\n",
       "1   0.350000  0.315544   9.520661\n",
       "2   0.245000  0.349671   9.222354\n",
       "3   0.171500  0.346094   9.031507\n",
       "4   0.120050  0.338790   8.906380\n",
       "5   0.084035  0.332619   8.822921\n",
       "6   0.058824  0.328034   8.766526\n",
       "7   0.041177  0.324754   8.728043\n",
       "8   0.028824  0.322438   8.701592\n",
       "9   0.020177  0.320811   8.683314\n",
       "10  0.014124  0.319672   8.670637\n",
       "11  0.009887  0.318874   8.661820\n",
       "12  0.006921  0.318316   8.655676\n",
       "13  0.004844  0.317925   8.651389\n",
       "14  0.003391  0.317652   8.648394\n",
       "15  0.002374  0.317461   8.646302\n",
       "16  0.001662  0.317327   8.644838\n",
       "17  0.001163  0.317233   8.643815\n",
       "18  0.000814  0.317167   8.643099\n",
       "19  0.000570  0.317121   8.642598"
      ]
     },
     "execution_count": 367,
     "metadata": {},
     "output_type": "execute_result"
    }
   ],
   "source": [
    "GDlogi_result_B"
   ]
  },
  {
   "cell_type": "markdown",
   "metadata": {},
   "source": [
    "- logistic regression에서는 backtracking을 사용할 경우에는 step size가 너무 작아져버려서 수렴을 하지 못한다는 점이 생긴다."
   ]
  },
  {
   "cell_type": "markdown",
   "metadata": {},
   "source": [
    "#### 위와 똑같이 cost가 얼마나 줄어들었나 확인해준다."
   ]
  },
  {
   "cell_type": "code",
   "execution_count": 373,
   "metadata": {},
   "outputs": [],
   "source": [
    "cost = []\n",
    "for i in range(num_iter):\n",
    "        fx = sigmoid(x_mat, beta_temp)\n",
    "        error = fx - y_mat\n",
    "        grad = x_mat.T.dot(error)\n",
    "        while (backtracking(alpha,t_temp)):\n",
    "            t_temp = t_temp * beta\n",
    "            beta_temp = beta_temp - t_temp*(logiGradient(x_mat,y_mat,beta_temp))\n",
    "        \n",
    "        cost.append(loss(fx, y_mat))"
   ]
  },
  {
   "cell_type": "code",
   "execution_count": 374,
   "metadata": {},
   "outputs": [
    {
     "data": {
      "text/plain": [
       "Text(0.5, 1.0, 'Logistic Regression: Backtracking')"
      ]
     },
     "execution_count": 374,
     "metadata": {},
     "output_type": "execute_result"
    },
    {
     "data": {
      "image/png": "[encoded data removed]",
      "text/plain": [
       "<Figure size 432x288 with 1 Axes>"
      ]
     },
     "metadata": {
      "needs_background": "light"
     },
     "output_type": "display_data"
    }
   ],
   "source": [
    "plt.plot(range(1, len(cost) + 1), cost)\n",
    "plt.xlabel('Iterations')\n",
    "plt.ylabel('Cost')\n",
    "plt.title('Logistic Regression: Backtracking')"
   ]
  },
  {
   "cell_type": "markdown",
   "metadata": {},
   "source": [
    "- 목적함수를 minimize시키는데 빨리 도달했으나 위와 같이 Newton Raphson으로 구한 estimator와 값이 차이가 난다(이유는 잘 모르겠습니다)"
   ]
  },
  {
   "cell_type": "markdown",
   "metadata": {},
   "source": [
    "### 마지막으로 exact line search를 적용해 본다."
   ]
  },
  {
   "cell_type": "markdown",
   "metadata": {},
   "source": [
    "마찬가지로 아래와 같은 성질을 이용하여 구한다.\n",
    "\n",
    "$ LI \\prec \\nabla^2 f(x) \\prec mI$\n",
    "\n",
    "\n",
    "\n",
    "\n",
    "$\\nabla^2 f(x) = X^tDX$\n",
    "\n",
    "\n",
    "이고, 여기서 D는 $d(ii) = sigmoid(\\beta^T x(i)) sigmoid(-\\beta^T x(i))$ 로 diagonal element를 가지는 대각행렬이다.\n",
    "\n",
    "\n",
    "여기서 위의 Hessian Matrix가 Spectral Decomposition form이므로, 대각행렬의 원소들이 eigenvalue가 된다.\n",
    "\n",
    "또한 위의 linear regression과 같이 step size를 $2 / (\\lambda_(min)+\\lambda_(max))$ 로 잡아준다"
   ]
  },
  {
   "cell_type": "code",
   "execution_count": 385,
   "metadata": {},
   "outputs": [],
   "source": [
    "beta = np.array([0.1954,7.4]) #assume that we know the true beta\n",
    "\n",
    "Hessian = sigmoid(x_mat,beta)*sigmoid(x_mat,-beta)"
   ]
  },
  {
   "cell_type": "code",
   "execution_count": 389,
   "metadata": {},
   "outputs": [],
   "source": [
    "lambda_max = max(Hessian)\n",
    "lambda_min = min(Hessian)"
   ]
  },
  {
   "cell_type": "code",
   "execution_count": 390,
   "metadata": {},
   "outputs": [
    {
     "data": {
      "text/plain": [
       "8.06843199872253"
      ]
     },
     "execution_count": 390,
     "metadata": {},
     "output_type": "execute_result"
    }
   ],
   "source": [
    "t_revised = 2/(lambda_max+lambda_min)\n",
    "t_revised"
   ]
  },
  {
   "cell_type": "code",
   "execution_count": 391,
   "metadata": {},
   "outputs": [],
   "source": [
    "## 초기값\n",
    "beta_init = [0,10]\n",
    "\n",
    "## 현재값\n",
    "beta_temp = beta_init\n",
    "\n",
    "## 전체 결과물 저장소\n",
    "GDlogi_result_C = pd.DataFrame([beta_init],columns=[\"beta0\",\"beta1\"])"
   ]
  },
  {
   "cell_type": "code",
   "execution_count": 392,
   "metadata": {},
   "outputs": [
    {
     "name": "stderr",
     "output_type": "stream",
     "text": [
      "<ipython-input-283-1400af30e7c2>:5: RuntimeWarning: overflow encountered in exp\n",
      "  return 1.0 / ( 1.0 + np.exp(-z))\n"
     ]
    }
   ],
   "source": [
    "for i in range(num_iter) : \n",
    "    beta_temp = beta_temp - t_revised*(logiGradient(x_mat,y_mat,beta_temp))\n",
    "    GDlogi_result_C = GDlogi_result_C.append(pd.DataFrame(np.array([beta_temp]),columns=[\"beta0\",\"beta1\"]),ignore_index=True)\n",
    "    if sum(logiGradient(x_mat,y_mat,beta_temp)**2)**(1/2) < 0.0001 : break"
   ]
  },
  {
   "cell_type": "code",
   "execution_count": 393,
   "metadata": {},
   "outputs": [
    {
     "data": {
      "text/html": [
       "<div>\n",
       "<style scoped>\n",
       "    .dataframe tbody tr th:only-of-type {\n",
       "        vertical-align: middle;\n",
       "    }\n",
       "\n",
       "    .dataframe tbody tr th {\n",
       "        vertical-align: top;\n",
       "    }\n",
       "\n",
       "    .dataframe thead th {\n",
       "        text-align: right;\n",
       "    }\n",
       "</style>\n",
       "<table border=\"1\" class=\"dataframe\">\n",
       "  <thead>\n",
       "    <tr style=\"text-align: right;\">\n",
       "      <th></th>\n",
       "      <th>beta0</th>\n",
       "      <th>beta1</th>\n",
       "    </tr>\n",
       "  </thead>\n",
       "  <tbody>\n",
       "    <tr>\n",
       "      <th>0</th>\n",
       "      <td>0.000000</td>\n",
       "      <td>10.000000</td>\n",
       "    </tr>\n",
       "    <tr>\n",
       "      <th>1</th>\n",
       "      <td>7.274135</td>\n",
       "      <td>-1.050033</td>\n",
       "    </tr>\n",
       "    <tr>\n",
       "      <th>2</th>\n",
       "      <td>-3076.750575</td>\n",
       "      <td>4562.722778</td>\n",
       "    </tr>\n",
       "    <tr>\n",
       "      <th>3</th>\n",
       "      <td>-1975.634911</td>\n",
       "      <td>5084.108034</td>\n",
       "    </tr>\n",
       "    <tr>\n",
       "      <th>4</th>\n",
       "      <td>-1758.356406</td>\n",
       "      <td>5127.789675</td>\n",
       "    </tr>\n",
       "    <tr>\n",
       "      <th>...</th>\n",
       "      <td>...</td>\n",
       "      <td>...</td>\n",
       "    </tr>\n",
       "    <tr>\n",
       "      <th>996</th>\n",
       "      <td>69.266018</td>\n",
       "      <td>551.347812</td>\n",
       "    </tr>\n",
       "    <tr>\n",
       "      <th>997</th>\n",
       "      <td>67.182793</td>\n",
       "      <td>535.818156</td>\n",
       "    </tr>\n",
       "    <tr>\n",
       "      <th>998</th>\n",
       "      <td>65.099647</td>\n",
       "      <td>520.288495</td>\n",
       "    </tr>\n",
       "    <tr>\n",
       "      <th>999</th>\n",
       "      <td>63.016628</td>\n",
       "      <td>504.758825</td>\n",
       "    </tr>\n",
       "    <tr>\n",
       "      <th>1000</th>\n",
       "      <td>60.933808</td>\n",
       "      <td>489.229140</td>\n",
       "    </tr>\n",
       "  </tbody>\n",
       "</table>\n",
       "<p>1001 rows × 2 columns</p>\n",
       "</div>"
      ],
      "text/plain": [
       "            beta0        beta1\n",
       "0        0.000000    10.000000\n",
       "1        7.274135    -1.050033\n",
       "2    -3076.750575  4562.722778\n",
       "3    -1975.634911  5084.108034\n",
       "4    -1758.356406  5127.789675\n",
       "...           ...          ...\n",
       "996     69.266018   551.347812\n",
       "997     67.182793   535.818156\n",
       "998     65.099647   520.288495\n",
       "999     63.016628   504.758825\n",
       "1000    60.933808   489.229140\n",
       "\n",
       "[1001 rows x 2 columns]"
      ]
     },
     "execution_count": 393,
     "metadata": {},
     "output_type": "execute_result"
    }
   ],
   "source": [
    "GDlogi_result_C"
   ]
  }
 ],
 "metadata": {
  "kernelspec": {
   "display_name": "Python 3",
   "language": "python",
   "name": "python3"
  },
  "language_info": {
   "codemirror_mode": {
    "name": "ipython",
    "version": 3
   },
   "file_extension": ".py",
   "mimetype": "text/x-python",
   "name": "python",
   "nbconvert_exporter": "python",
   "pygments_lexer": "ipython3",
   "version": "3.7.7"
  },
  "toc": {
   "base_numbering": 1,
   "nav_menu": {},
   "number_sections": true,
   "sideBar": true,
   "skip_h1_title": false,
   "title_cell": "Table of Contents",
   "title_sidebar": "Contents",
   "toc_cell": false,
   "toc_position": {},
   "toc_section_display": true,
   "toc_window_display": false
  },
  "varInspector": {
   "cols": {
    "lenName": 16,
    "lenType": 16,
    "lenVar": 40
   },
   "kernels_config": {
    "python": {
     "delete_cmd_postfix": "",
     "delete_cmd_prefix": "del ",
     "library": "var_list.py",
     "varRefreshCmd": "print(var_dic_list())"
    },
    "r": {
     "delete_cmd_postfix": ") ",
     "delete_cmd_prefix": "rm(",
     "library": "var_list.r",
     "varRefreshCmd": "cat(var_dic_list()) "
    }
   },
   "types_to_exclude": [
    "module",
    "function",
    "builtin_function_or_method",
    "instance",
    "_Feature"
   ],
   "window_display": false
  }
 },
 "nbformat": 4,
 "nbformat_minor": 4
}
